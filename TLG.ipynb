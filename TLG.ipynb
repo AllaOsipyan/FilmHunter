{
 "cells": [
  {
   "cell_type": "code",
   "execution_count": 195,
   "metadata": {},
   "outputs": [
    {
     "name": "stdout",
     "output_type": "stream",
     "text": [
      "Requirement already satisfied: pyTelegramBotAPI in c:\\users\\an.dmitriev\\appdata\\local\\programs\\python\\python310\\lib\\site-packages (4.10.0)\n",
      "Requirement already satisfied: requests in c:\\users\\an.dmitriev\\appdata\\local\\programs\\python\\python310\\lib\\site-packages (from pyTelegramBotAPI) (2.28.2)\n",
      "Requirement already satisfied: idna<4,>=2.5 in c:\\users\\an.dmitriev\\appdata\\local\\programs\\python\\python310\\lib\\site-packages (from requests->pyTelegramBotAPI) (3.4)\n",
      "Requirement already satisfied: certifi>=2017.4.17 in c:\\users\\an.dmitriev\\appdata\\local\\programs\\python\\python310\\lib\\site-packages (from requests->pyTelegramBotAPI) (2022.12.7)\n",
      "Requirement already satisfied: charset-normalizer<4,>=2 in c:\\users\\an.dmitriev\\appdata\\local\\programs\\python\\python310\\lib\\site-packages (from requests->pyTelegramBotAPI) (3.1.0)\n",
      "Requirement already satisfied: urllib3<1.27,>=1.21.1 in c:\\users\\an.dmitriev\\appdata\\local\\programs\\python\\python310\\lib\\site-packages (from requests->pyTelegramBotAPI) (1.26.15)\n",
      "Note: you may need to restart the kernel to use updated packages.\n"
     ]
    },
    {
     "name": "stderr",
     "output_type": "stream",
     "text": [
      "\n",
      "[notice] A new release of pip available: 22.2.2 -> 23.0.1\n",
      "[notice] To update, run: python.exe -m pip install --upgrade pip\n"
     ]
    }
   ],
   "source": [
    "pip install pyTelegramBotAPI"
   ]
  },
  {
   "cell_type": "code",
   "execution_count": 196,
   "metadata": {},
   "outputs": [],
   "source": [
    "import telebot\n",
    "import webbrowser\n",
    "from telebot import types\n",
    "import sqlite3"
   ]
  },
  {
   "cell_type": "code",
   "execution_count": 197,
   "metadata": {},
   "outputs": [],
   "source": [
    "bot = telebot.TeleBot('5943866957:AAFThnNXwb1tFfbhx6TCQ5to7zZY-P53BjA')\n",
    "name = None"
   ]
  },
  {
   "cell_type": "code",
   "execution_count": 198,
   "metadata": {},
   "outputs": [],
   "source": [
    "@bot.message_handler(commands=['start'])\n",
    "def start(message):\n",
    "    conn = sqlite3.connect('Base.sql')\n",
    "    cur = conn.cursor()\n",
    "\n",
    "    cur.execute('CREATE TABLE IF NOT EXISTS users (id int auto_increment primary key, name varchar(50), pass varchar(50))')\n",
    "    conn.commit()\n",
    "    cur.close()\n",
    "    conn.close()\n",
    "    \n",
    "    def user_name(message):\n",
    "        mess = f'Привет, {message.from_user.first_name}, тебе нужно пройти небольшую регистрацию, начнем с имени'\n",
    "        global name\n",
    "        name = message.text.strip()\n",
    "        bot.send_message(message.chat.id, 'Теперь пароль')\n",
    "        bot.register_next_step_handler(message, user_pass)\n",
    "    bot.send_message(message.chat.id, mess, parse_mode='html')\n",
    "    bot.register_next_step_handler(message, user_name)\n",
    "\n",
    "    \n",
    "\n",
    "    def user_pass(message):\n",
    "        password = message.text.strip()\n",
    "\n",
    "        conn = sqlite3.connect('Base.sql')\n",
    "        cur = conn.cursor()\n",
    "\n",
    "        cur.execute(\"INSERT INTO users (name, pass) VALUES ('%s', '%s')\" % (name, password)) \n",
    "        conn.commit()\n",
    "        cur.close()\n",
    "        conn.close()\n",
    "        markup = types.InlineKeyboardMarkup()\n",
    "        markup.add(types.InlineKeyboardButton('Список пользователей', callback_data='users'))\n",
    "        bot.send_message(message.chat.id, \"Вы заргестрированы!\", reply_markup=markup)\n",
    "    \n",
    "\n",
    "\n",
    "@bot.message_handler(commands=['website'])\n",
    "def get_user_photo(message):\n",
    "    markup = types.InlineKeyboardMarkup()\n",
    "    markup.add(types.InlineKeyboardButton(\"Посетить веб сайт\", url=\"https://translate.yandex.ru/?source_lang=en&target_lang=ru&text=%27list%27%20object%20is%20not%20callable\"))\n",
    "    bot.send_message(message.chat.id, 'Переходи и переводи!', reply_markup=markup)\n",
    "    \n",
    "@bot.message_handler(commands=['site'])\n",
    "def site(message):\n",
    "    markup = types.InlineKeyboardMarkup()\n",
    "    webbrowser.open('https://translate.yandex.ru/?source_lang=en&target_lang=ru&text=%27list%27%20object%20is%20not%20callable')\n",
    "\n",
    "@bot.message_handler(commands=['help'])\n",
    "def website(message):\n",
    "    markup = types.ReplyKeyboardMarkup(resize_keyboard=True, row_width=2)  #Кнопки статичные\n",
    "    website = types.KeyboardButton('Веб сайт')\n",
    "    start = types.KeyboardButton('Start')\n",
    "    markup.add(website, start)\n",
    "    bot.send_message(message.chat.id, reply_markup=markup)\n",
    "\n",
    "@bot.message_handler(content_types=['photo'])\n",
    "def get_user_photo(message):\n",
    "    markup = types.InlineKeyboardMarkup()  #Кнопки для текста/ответа\n",
    "    btn1 = types.InlineKeyboardButton('Нажми меня 🤡', callback_data='joke')\n",
    "    markup.row(btn1)\n",
    "    btn2 = types.InlineKeyboardButton('Удалить фото ❌', callback_data='delete')\n",
    "    btn3 = types.InlineKeyboardButton('Изменить текст ✏️', callback_data='edit')\n",
    "    markup.row(btn2, btn3)\n",
    "    bot.send_message(message.chat.id, \"Вау, крутое фото!\", reply_markup=markup)\n",
    "\n",
    "@bot.callback_query_handler(func=lambda callback: True)\n",
    "def callback_message(callback):\n",
    "    if callback.data == 'delete':\n",
    "        bot.delete_message(callback.message.chat.id, callback.message.message_id - 1)\n",
    "    elif callback.data == 'edit':\n",
    "        bot.edit_message_text('Edit text', callback.message.chat.id, callback.message.message_id)\n",
    "    \n",
    "@bot.message_handler()\n",
    "def get_user_text(message):\n",
    "    if message.text.lower() == \"привет\":\n",
    "        bot.send_message(message.chat.id, \"Ну привет\", parse_mode='html')\n",
    "    elif message.text.lower() == 'id':\n",
    "        bot.send_message(message.chat.id, f\"Твой ID: {message.from_user.id}\", parse_mode='html')\n",
    "    elif message.text.lower() == 'inf':\n",
    "        bot.send_message(message.chat.id, f\"Информация о сообщении: {message}\", parse_mode='html')\n",
    "    elif message.text.lower() == \"photo\":\n",
    "        photo = open('123.png', 'rb')\n",
    "        bot.send_photo(message.chat.id, photo)\n",
    "    else:\n",
    "        bot.send_message(message.chat.id, \"Что ты там пишешь?\", parse_mode='html')\n",
    "\n",
    "\n",
    "\n",
    "\n",
    "bot.polling(non_stop=True)"
   ]
  },
  {
   "cell_type": "code",
   "execution_count": null,
   "metadata": {},
   "outputs": [],
   "source": []
  }
 ],
 "metadata": {
  "kernelspec": {
   "display_name": "Python 3",
   "language": "python",
   "name": "python3"
  },
  "language_info": {
   "codemirror_mode": {
    "name": "ipython",
    "version": 3
   },
   "file_extension": ".py",
   "mimetype": "text/x-python",
   "name": "python",
   "nbconvert_exporter": "python",
   "pygments_lexer": "ipython3",
   "version": "3.10.8"
  },
  "orig_nbformat": 4,
  "vscode": {
   "interpreter": {
    "hash": "2c39f2945a06302c22fde7ef1c40143df39efd00740fdfdbc249e3f9f2fdc846"
   }
  }
 },
 "nbformat": 4,
 "nbformat_minor": 2
}
