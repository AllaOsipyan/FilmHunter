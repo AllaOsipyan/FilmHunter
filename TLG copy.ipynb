{
 "cells": [
  {
   "cell_type": "code",
   "execution_count": 91,
   "metadata": {},
   "outputs": [
    {
     "name": "stdout",
     "output_type": "stream",
     "text": [
      "Requirement already satisfied: pyTelegramBotAPI in c:\\users\\an.dmitriev\\appdata\\local\\programs\\python\\python310\\lib\\site-packages (4.10.0)\n",
      "Requirement already satisfied: requests in c:\\users\\an.dmitriev\\appdata\\local\\programs\\python\\python310\\lib\\site-packages (from pyTelegramBotAPI) (2.28.2)\n",
      "Requirement already satisfied: idna<4,>=2.5 in c:\\users\\an.dmitriev\\appdata\\local\\programs\\python\\python310\\lib\\site-packages (from requests->pyTelegramBotAPI) (3.4)\n",
      "Requirement already satisfied: certifi>=2017.4.17 in c:\\users\\an.dmitriev\\appdata\\local\\programs\\python\\python310\\lib\\site-packages (from requests->pyTelegramBotAPI) (2022.12.7)\n",
      "Requirement already satisfied: charset-normalizer<4,>=2 in c:\\users\\an.dmitriev\\appdata\\local\\programs\\python\\python310\\lib\\site-packages (from requests->pyTelegramBotAPI) (3.1.0)\n",
      "Requirement already satisfied: urllib3<1.27,>=1.21.1 in c:\\users\\an.dmitriev\\appdata\\local\\programs\\python\\python310\\lib\\site-packages (from requests->pyTelegramBotAPI) (1.26.15)\n",
      "Note: you may need to restart the kernel to use updated packages.\n"
     ]
    },
    {
     "name": "stderr",
     "output_type": "stream",
     "text": [
      "\n",
      "[notice] A new release of pip available: 22.2.2 -> 23.0.1\n",
      "[notice] To update, run: python.exe -m pip install --upgrade pip\n"
     ]
    }
   ],
   "source": [
    "pip install pyTelegramBotAPI"
   ]
  },
  {
   "cell_type": "code",
   "execution_count": 92,
   "metadata": {},
   "outputs": [],
   "source": [
    "import telebot\n",
    "import webbrowser\n",
    "from telebot import types"
   ]
  },
  {
   "cell_type": "code",
   "execution_count": 93,
   "metadata": {},
   "outputs": [],
   "source": [
    "bot = telebot.TeleBot('5943866957:AAFThnNXwb1tFfbhx6TCQ5to7zZY-P53BjA')\n"
   ]
  },
  {
   "cell_type": "code",
   "execution_count": 94,
   "metadata": {},
   "outputs": [],
   "source": [
    "# @bot.message_handler(content_types=['photo'])\n",
    "# def get_photo(message):\n",
    "#     markup = types.InlineKeyboardMarkup()\n",
    "#     btn1 = types.InlineKeyboardButton('Нажми меня')\n",
    "#     markup.row(btn1)\n",
    "#     bnt2 = types.InlineKeyboardButton('Удалить фото', callback_data='delete')\n",
    "#     bnt3 = types.InlineKeyboardButton('Изменить текст', callback_data='edit')\n",
    "#     markup.row(btn2, btn3)"
   ]
  },
  {
   "cell_type": "code",
   "execution_count": null,
   "metadata": {},
   "outputs": [],
   "source": []
  }
 ],
 "metadata": {
  "kernelspec": {
   "display_name": "Python 3",
   "language": "python",
   "name": "python3"
  },
  "language_info": {
   "codemirror_mode": {
    "name": "ipython",
    "version": 3
   },
   "file_extension": ".py",
   "mimetype": "text/x-python",
   "name": "python",
   "nbconvert_exporter": "python",
   "pygments_lexer": "ipython3",
   "version": "3.10.8"
  },
  "orig_nbformat": 4,
  "vscode": {
   "interpreter": {
    "hash": "2c39f2945a06302c22fde7ef1c40143df39efd00740fdfdbc249e3f9f2fdc846"
   }
  }
 },
 "nbformat": 4,
 "nbformat_minor": 2
}
